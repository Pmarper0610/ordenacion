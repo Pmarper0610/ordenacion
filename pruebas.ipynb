{
 "cells": [
  {
   "cell_type": "code",
   "execution_count": 1,
   "metadata": {},
   "outputs": [
    {
     "name": "stdout",
     "output_type": "stream",
     "text": [
      "pygame 2.6.1 (SDL 2.28.4, Python 3.11.4)\n",
      "Hello from the pygame community. https://www.pygame.org/contribute.html\n"
     ]
    }
   ],
   "source": [
    "import pygame \n",
    "import pygame_widgets "
   ]
  },
  {
   "cell_type": "code",
   "execution_count": 2,
   "metadata": {},
   "outputs": [],
   "source": [
    "n =[]\n",
    "contador = 0\n",
    "\n",
    "def swap(i):\n",
    "    a= n[i]\n",
    "    n[i] = n[i+1]\n",
    "    n[i+1] = a\n",
    "\n",
    "def agregarNumero():\n",
    "    global n \n",
    "    n.append(int(tNumero.getText()))    \n",
    "    tResultado.setText(n)\n",
    "\n",
    "def ordenar():\n",
    "    parar = 0\n",
    "    global contador \n",
    "    global n \n",
    "    for i in range(len(n)-1):\n",
    "        parar = 1\n",
    "        for j in range(len(n)-1):\n",
    "            if n[j]>n[j+1]:\n",
    "                swap(j)\n",
    "                contador +=1\n",
    "                parar = 0 \n",
    "        if parar == 1:\n",
    "            break\n",
    "    tResultado.setText(n)            "
   ]
  },
  {
   "cell_type": "code",
   "execution_count": 3,
   "metadata": {},
   "outputs": [
    {
     "ename": "TypeError",
     "evalue": "agregarNumero() missing 1 required positional argument: 'linea'",
     "output_type": "error",
     "traceback": [
      "\u001b[0;31m---------------------------------------------------------------------------\u001b[0m",
      "\u001b[0;31mTypeError\u001b[0m                                 Traceback (most recent call last)",
      "Cell \u001b[0;32mIn[3], line 41\u001b[0m\n\u001b[1;32m     38\u001b[0m     \u001b[39mbreak\u001b[39;00m\n\u001b[1;32m     39\u001b[0m win\u001b[39m.\u001b[39mfill((\u001b[39m255\u001b[39m, \u001b[39m255\u001b[39m, \u001b[39m255\u001b[39m))\n\u001b[0;32m---> 41\u001b[0m pygame_widgets\u001b[39m.\u001b[39mupdate(events)\n\u001b[1;32m     42\u001b[0m pygame\u001b[39m.\u001b[39mdisplay\u001b[39m.\u001b[39mupdate()\n",
      "File \u001b[0;32m~/anaconda3/lib/python3.11/site-packages/pygame_widgets/__init__.py:9\u001b[0m, in \u001b[0;36mupdate\u001b[0;34m(events)\u001b[0m\n\u001b[1;32m      7\u001b[0m \u001b[39mdef\u001b[39;00m \u001b[39mupdate\u001b[39m(events: [Event]):\n\u001b[1;32m      8\u001b[0m     Mouse\u001b[39m.\u001b[39mupdateMouseState()\n\u001b[0;32m----> 9\u001b[0m     WidgetHandler\u001b[39m.\u001b[39mmain(events)\n",
      "File \u001b[0;32m~/anaconda3/lib/python3.11/site-packages/pygame_widgets/widget.py:219\u001b[0m, in \u001b[0;36mWidgetHandler.main\u001b[0;34m(events)\u001b[0m\n\u001b[1;32m    217\u001b[0m \u001b[39mfor\u001b[39;00m widget \u001b[39min\u001b[39;00m widgets[::\u001b[39m-\u001b[39m\u001b[39m1\u001b[39m]:\n\u001b[1;32m    218\u001b[0m     \u001b[39mif\u001b[39;00m \u001b[39mnot\u001b[39;00m blocked \u001b[39mor\u001b[39;00m \u001b[39mnot\u001b[39;00m widget\u001b[39m.\u001b[39mcontains(\u001b[39m*\u001b[39mMouse\u001b[39m.\u001b[39mgetMousePos()):\n\u001b[0;32m--> 219\u001b[0m         widget\u001b[39m.\u001b[39mlisten(events)\n\u001b[1;32m    221\u001b[0m     \u001b[39m# Ensure widgets covered by others are not affected (widgets created later)\u001b[39;00m\n\u001b[1;32m    222\u001b[0m     \u001b[39mif\u001b[39;00m widget\u001b[39m.\u001b[39mcontains(\u001b[39m*\u001b[39mMouse\u001b[39m.\u001b[39mgetMousePos()):  \u001b[39m# TODO: Unless 'transparent'\u001b[39;00m\n",
      "File \u001b[0;32m~/anaconda3/lib/python3.11/site-packages/pygame_widgets/button.py:116\u001b[0m, in \u001b[0;36mButton.listen\u001b[0;34m(self, events)\u001b[0m\n\u001b[1;32m    114\u001b[0m \u001b[39melif\u001b[39;00m mouseState \u001b[39m==\u001b[39m MouseState\u001b[39m.\u001b[39mCLICK:\n\u001b[1;32m    115\u001b[0m     \u001b[39mself\u001b[39m\u001b[39m.\u001b[39mclicked \u001b[39m=\u001b[39m \u001b[39mTrue\u001b[39;00m\n\u001b[0;32m--> 116\u001b[0m     \u001b[39mself\u001b[39m\u001b[39m.\u001b[39monClick(\u001b[39m*\u001b[39m\u001b[39mself\u001b[39m\u001b[39m.\u001b[39monClickParams)\n\u001b[1;32m    117\u001b[0m     \u001b[39mself\u001b[39m\u001b[39m.\u001b[39mcolour \u001b[39m=\u001b[39m \u001b[39mself\u001b[39m\u001b[39m.\u001b[39mpressedColour\n\u001b[1;32m    118\u001b[0m     \u001b[39mself\u001b[39m\u001b[39m.\u001b[39mborderColour \u001b[39m=\u001b[39m \u001b[39mself\u001b[39m\u001b[39m.\u001b[39mpressedBorderColour\n",
      "Cell \u001b[0;32mIn[3], line 12\u001b[0m, in \u001b[0;36m<lambda>\u001b[0;34m()\u001b[0m\n\u001b[1;32m      4\u001b[0m pygame\u001b[39m.\u001b[39minit()\n\u001b[1;32m      5\u001b[0m win \u001b[39m=\u001b[39m pygame\u001b[39m.\u001b[39mdisplay\u001b[39m.\u001b[39mset_mode ((\u001b[39m600\u001b[39m,\u001b[39m600\u001b[39m))\n\u001b[1;32m      7\u001b[0m button \u001b[39m=\u001b[39m Button(\n\u001b[1;32m      8\u001b[0m     win,\u001b[39m100\u001b[39m,\u001b[39m100\u001b[39m,\u001b[39m300\u001b[39m,\u001b[39m100\u001b[39m,\n\u001b[1;32m      9\u001b[0m \n\u001b[1;32m     10\u001b[0m text\u001b[39m=\u001b[39m\u001b[39m'\u001b[39m\u001b[39mAgregar\u001b[39m\u001b[39m'\u001b[39m , fontSize\u001b[39m=\u001b[39m\u001b[39m50\u001b[39m, margin\u001b[39m=\u001b[39m\u001b[39m20\u001b[39m, inactiveColour\u001b[39m=\u001b[39m(\u001b[39m200\u001b[39m, \u001b[39m50\u001b[39m, \u001b[39m0\u001b[39m), \n\u001b[1;32m     11\u001b[0m hoverColour\u001b[39m=\u001b[39m (\u001b[39m150\u001b[39m, \u001b[39m0\u001b[39m, \u001b[39m0\u001b[39m), pressedColour\u001b[39m=\u001b[39m (\u001b[39m0\u001b[39m, \u001b[39m200\u001b[39m, \u001b[39m20\u001b[39m), radius\u001b[39m=\u001b[39m\u001b[39m20\u001b[39m,\n\u001b[0;32m---> 12\u001b[0m onClick\u001b[39m=\u001b[39m\u001b[39mlambda\u001b[39;00m: agregarNumero()\n\u001b[1;32m     13\u001b[0m \n\u001b[1;32m     14\u001b[0m  )\n\u001b[1;32m     16\u001b[0m button2 \u001b[39m=\u001b[39m Button(\n\u001b[1;32m     17\u001b[0m     win,\u001b[39m100\u001b[39m,\u001b[39m210\u001b[39m,\u001b[39m300\u001b[39m,\u001b[39m100\u001b[39m,\n\u001b[1;32m     18\u001b[0m \n\u001b[0;32m   (...)\u001b[0m\n\u001b[1;32m     22\u001b[0m \n\u001b[1;32m     23\u001b[0m  )\n\u001b[1;32m     24\u001b[0m tNumero \u001b[39m=\u001b[39m TextBox(win, \u001b[39m100\u001b[39m, \u001b[39m10\u001b[39m, \u001b[39m300\u001b[39m, \u001b[39m70\u001b[39m, fontSize\u001b[39m=\u001b[39m\u001b[39m40\u001b[39m)\n",
      "\u001b[0;31mTypeError\u001b[0m: agregarNumero() missing 1 required positional argument: 'linea'"
     ]
    }
   ],
   "source": [
    "from pygame_widgets.button import Button\n",
    "from pygame_widgets.textbox import TextBox \n",
    "\n",
    "pygame.init()\n",
    "win = pygame.display.set_mode ((600,600))\n",
    "\n",
    "button = Button(\n",
    "    win,100,100,300,100,\n",
    "\n",
    "text='Agregar' , fontSize=50, margin=20, inactiveColour=(200, 50, 0), \n",
    "hoverColour= (150, 0, 0), pressedColour= (0, 200, 20), radius=20,\n",
    "onClick=lambda: agregarNumero()\n",
    "\n",
    " )\n",
    "\n",
    "button2 = Button(\n",
    "    win,100,210,300,100,\n",
    "\n",
    "text='  Ordenar' , fontSize=50, margin=20, inactiveColour=(200, 50, 0), \n",
    "hoverColour= (150, 0, 0), pressedColour= (0, 200, 20), radius=20,\n",
    "onClick=lambda: ordenar()\n",
    "\n",
    " )\n",
    "tNumero = TextBox(win, 100, 10, 300, 70, fontSize=40)\n",
    "tResultado = TextBox(win, 100, 320, 300, 70, fontSize=40)\n",
    "tResultado.disable()\n",
    "\n",
    "run = True \n",
    "while run:\n",
    "    events = pygame.event.get()\n",
    "    for event in events:\n",
    "        if event.type == pygame.QUIT:\n",
    "            pygame.quit()\n",
    "            run = False \n",
    "            break\n",
    "\n",
    "    if run ==False:\n",
    "        break\n",
    "    win.fill((255, 255, 255))\n",
    "\n",
    "    pygame_widgets.update(events)\n",
    "    pygame.display.update()    \n",
    "\n"
   ]
  }
 ],
 "metadata": {
  "kernelspec": {
   "display_name": "Python 3.11.4 ('base')",
   "language": "python",
   "name": "python3"
  },
  "language_info": {
   "codemirror_mode": {
    "name": "ipython",
    "version": 3
   },
   "file_extension": ".py",
   "mimetype": "text/x-python",
   "name": "python",
   "nbconvert_exporter": "python",
   "pygments_lexer": "ipython3",
   "version": "3.11.4"
  },
  "orig_nbformat": 4,
  "vscode": {
   "interpreter": {
    "hash": "42a359588333a3e943594e472dfdd91a4d2d649b3ed395454ac7d3a5b14bca79"
   }
  }
 },
 "nbformat": 4,
 "nbformat_minor": 2
}
