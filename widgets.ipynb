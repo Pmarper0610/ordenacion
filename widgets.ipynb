{
 "cells": [
  {
   "cell_type": "code",
   "execution_count": 1,
   "metadata": {},
   "outputs": [],
   "source": [
    "import ipywidgets as wid"
   ]
  },
  {
   "cell_type": "code",
   "execution_count": 2,
   "metadata": {},
   "outputs": [],
   "source": [
    "def swap(j):\n",
    "  a = n[j] \n",
    "  n[j]= n[j + 1]\n",
    "  n[j+1] = a\n",
    "\n",
    "contador = 0 \n",
    "n = []"
   ]
  },
  {
   "cell_type": "code",
   "execution_count": 3,
   "metadata": {},
   "outputs": [],
   "source": [
    "\n",
    "def agregar(p):\n",
    "    n.append(input.value)\n",
    "def ordenar(p):\n",
    "    parar = 0\n",
    "    global contador \n",
    "    global n \n",
    "    for i  in range(len(n)-1):   \n",
    "        for j in range(len(n)-1):\n",
    "            if n[j] > n[j + 1]:  \n",
    "             swap(j)\n",
    "             contador +=1\n",
    "             parar = 0\n",
    "        if parar == 1:     \n",
    "            break\n",
    "    output.value = str(n)\n",
    "\n",
    "boton1_agregar = wid.Button(description=\"agregar\")\n",
    "boton2_ordenar = wid.Button(description=\"ordenar\")\n",
    "output = wid.Text()\n",
    "input = wid.Text()\n",
    "boton1_agregar.on_click(agregar)\n",
    "boton2_ordenar.on_click(ordenar)"
   ]
  },
  {
   "cell_type": "code",
   "execution_count": 4,
   "metadata": {},
   "outputs": [
    {
     "data": {
      "application/vnd.jupyter.widget-view+json": {
       "model_id": "7f3044c460eb4d70b5957803ac0c5ba1",
       "version_major": 2,
       "version_minor": 0
      },
      "text/plain": [
       "Text(value='')"
      ]
     },
     "metadata": {},
     "output_type": "display_data"
    },
    {
     "data": {
      "application/vnd.jupyter.widget-view+json": {
       "model_id": "ed38264e1f5e42009177e686a0fabb3b",
       "version_major": 2,
       "version_minor": 0
      },
      "text/plain": [
       "Button(description='agregar', style=ButtonStyle())"
      ]
     },
     "metadata": {},
     "output_type": "display_data"
    },
    {
     "data": {
      "application/vnd.jupyter.widget-view+json": {
       "model_id": "92a15564ff4f478c97a4a72ca5c11d61",
       "version_major": 2,
       "version_minor": 0
      },
      "text/plain": [
       "Button(description='ordenar', style=ButtonStyle())"
      ]
     },
     "metadata": {},
     "output_type": "display_data"
    },
    {
     "data": {
      "application/vnd.jupyter.widget-view+json": {
       "model_id": "cdd0e9c8dd974756ac7537492f17529c",
       "version_major": 2,
       "version_minor": 0
      },
      "text/plain": [
       "Text(value='')"
      ]
     },
     "metadata": {},
     "output_type": "display_data"
    }
   ],
   "source": [
    "display(input, boton1_agregar, boton2_ordenar, output)"
   ]
  },
  {
   "cell_type": "markdown",
   "metadata": {},
   "source": []
  },
  {
   "cell_type": "code",
   "execution_count": 5,
   "metadata": {},
   "outputs": [
    {
     "name": "stdout",
     "output_type": "stream",
     "text": [
      "7.7.1\n"
     ]
    }
   ],
   "source": [
    "print(wid.__version__)"
   ]
  },
  {
   "cell_type": "code",
   "execution_count": 6,
   "metadata": {},
   "outputs": [],
   "source": [
    "pepe=wid.IntText(\n",
    "    value=7,\n",
    "    description='Any:',\n",
    "    disabled=False\n",
    ")"
   ]
  },
  {
   "cell_type": "code",
   "execution_count": 7,
   "metadata": {},
   "outputs": [
    {
     "data": {
      "application/vnd.jupyter.widget-view+json": {
       "model_id": "a1c5310d5fa34f3e9fdcc363f5b0b07a",
       "version_major": 2,
       "version_minor": 0
      },
      "text/plain": [
       "IntText(value=7, description='Any:')"
      ]
     },
     "metadata": {},
     "output_type": "display_data"
    }
   ],
   "source": [
    "display(pepe)"
   ]
  }
 ],
 "metadata": {
  "kernelspec": {
   "display_name": "Python 3.11.4 ('base')",
   "language": "python",
   "name": "python3"
  },
  "language_info": {
   "codemirror_mode": {
    "name": "ipython",
    "version": 3
   },
   "file_extension": ".py",
   "mimetype": "text/x-python",
   "name": "python",
   "nbconvert_exporter": "python",
   "pygments_lexer": "ipython3",
   "version": "3.11.4"
  },
  "orig_nbformat": 4,
  "vscode": {
   "interpreter": {
    "hash": "42a359588333a3e943594e472dfdd91a4d2d649b3ed395454ac7d3a5b14bca79"
   }
  }
 },
 "nbformat": 4,
 "nbformat_minor": 2
}
